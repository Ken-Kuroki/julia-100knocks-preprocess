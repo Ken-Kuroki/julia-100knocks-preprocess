{
 "cells": [
  {
   "cell_type": "markdown",
   "metadata": {},
   "source": [
    "# Juliaで100本ノック(26-50)"
   ]
  },
  {
   "cell_type": "markdown",
   "metadata": {},
   "source": [
    "## 準備"
   ]
  },
  {
   "cell_type": "code",
   "execution_count": null,
   "metadata": {},
   "outputs": [],
   "source": [
    "ENV[\"COLUMNS\"]=240  # 描画する表の列数を増やす\n",
    "ENV[\"LINES\"]=10  # 行の数は制限（問題の指示とは異なるので好みに合わせて修正）\n",
    "\n",
    "using Pkg\n",
    "\n",
    "Pkg.add(\"DataFrames\")\n",
    "Pkg.add(\"DataFramesMeta\")\n",
    "Pkg.add(\"LibPQ\")\n",
    "Pkg.add(\"StatsBase\")\n",
    "\n",
    "using DataFrames\n",
    "using DataFramesMeta\n",
    "using LibPQ\n",
    "using StatsBase\n",
    "using Statistics\n",
    "using Dates"
   ]
  },
  {
   "cell_type": "markdown",
   "metadata": {},
   "source": [
    "## SQLとの接続"
   ]
  },
  {
   "cell_type": "code",
   "execution_count": null,
   "metadata": {},
   "outputs": [],
   "source": [
    "host = \"db\"\n",
    "port = ENV[\"PG_PORT\"]\n",
    "database = ENV[\"PG_DATABASE\"]\n",
    "user = ENV[\"PG_USER\"]\n",
    "password = ENV[\"PG_PASSWORD\"]\n",
    "dsl = \"postgresql://$user:$password@$host:$port/$database\"\n",
    "conn = LibPQ.Connection(dsl)\n",
    "\n",
    "df_customer = DataFrame(execute(conn, \"select * from customer\"))\n",
    "df_category = DataFrame(execute(conn, \"select * from category\"))\n",
    "df_product = DataFrame(execute(conn, \"select * from product\"))\n",
    "df_receipt = DataFrame(execute(conn, \"select * from receipt\"))\n",
    "df_store = DataFrame(execute(conn, \"select * from store\"))\n",
    "df_geocode = DataFrame(execute(conn, \"select * from geocode\"));"
   ]
  },
  {
   "cell_type": "markdown",
   "metadata": {},
   "source": [
    "## 本編"
   ]
  },
  {
   "cell_type": "markdown",
   "metadata": {},
   "source": [
    "### 026"
   ]
  },
  {
   "cell_type": "code",
   "execution_count": null,
   "metadata": {},
   "outputs": [],
   "source": [
    "# より本格的にlinqに頼っていく\n",
    "@linq df_receipt |>\n",
    "    select(:customer_id, :sales_ymd) |>\n",
    "    orderby(:customer_id, :sales_ymd) |>\n",
    "    groupby(:customer_id) |>\n",
    "    combine(:sales_ymd => last, :sales_ymd => first) |>\n",
    "    where(:sales_ymd_last .!= :sales_ymd_first) |>\n",
    "    first(10)"
   ]
  },
  {
   "cell_type": "markdown",
   "metadata": {},
   "source": [
    "### 027"
   ]
  },
  {
   "cell_type": "code",
   "execution_count": null,
   "metadata": {},
   "outputs": [],
   "source": [
    "@linq df_receipt |>\n",
    "    select(:store_cd, :amount) |>\n",
    "    groupby(:store_cd) |>\n",
    "    combine(:amount => mean) |>\n",
    "    sort(:amount_mean, rev=true) |>\n",
    "    first(5)"
   ]
  },
  {
   "cell_type": "markdown",
   "metadata": {},
   "source": [
    "### 028"
   ]
  },
  {
   "cell_type": "code",
   "execution_count": null,
   "metadata": {},
   "outputs": [],
   "source": [
    "# Statisticsライブラリ内にmedianがあるので使うだけ\n",
    "@linq df_receipt |>\n",
    "    select(:store_cd, :amount) |>\n",
    "    groupby(:store_cd) |>\n",
    "    combine(:amount => median) |>\n",
    "    sort(:amount_median, rev=true) |>\n",
    "    first(5)"
   ]
  },
  {
   "cell_type": "markdown",
   "metadata": {},
   "source": [
    "### 029"
   ]
  },
  {
   "cell_type": "code",
   "execution_count": null,
   "metadata": {},
   "outputs": [],
   "source": [
    "# 同様にmodeを使うだけ\n",
    "@linq df_receipt |>\n",
    "    select(:store_cd, :product_cd) |>\n",
    "    groupby(:store_cd) |>\n",
    "    combine(:product_cd => mode) |>\n",
    "    orderby(:store_cd) |>\n",
    "    first(10)"
   ]
  },
  {
   "cell_type": "markdown",
   "metadata": {},
   "source": [
    "### 030"
   ]
  },
  {
   "cell_type": "code",
   "execution_count": null,
   "metadata": {},
   "outputs": [],
   "source": [
    "@linq df_receipt |>\n",
    "    select(:store_cd, :amount) |>\n",
    "    groupby(:store_cd) |>\n",
    "    combine(:amount => var) |>\n",
    "    sort(:amount_var, rev=true) |>\n",
    "    first(5)"
   ]
  },
  {
   "cell_type": "markdown",
   "metadata": {},
   "source": [
    "### 031"
   ]
  },
  {
   "cell_type": "code",
   "execution_count": null,
   "metadata": {},
   "outputs": [],
   "source": [
    "# stdは標準ライブラリとStatsBaseの両方に入っていて、前者ではデフォルトが不偏分散、後者では標本分散になるのでまぎらわしい。\n",
    "# ここでは匿名関数経由でcorrected=falseを明示的に渡して紛れがないようにする。\n",
    "uncorrected_std(x) = std(x, corrected=false)\n",
    "@linq df_receipt |>\n",
    "    select(:store_cd, :amount) |>\n",
    "    groupby(:store_cd) |>\n",
    "    combine(:amount => uncorrected_std) |>\n",
    "    sort(:amount_uncorrected_std, rev=true) |>\n",
    "    first(5)"
   ]
  },
  {
   "cell_type": "markdown",
   "metadata": {},
   "source": [
    "### 032"
   ]
  },
  {
   "cell_type": "code",
   "execution_count": null,
   "metadata": {},
   "outputs": [],
   "source": [
    "# StatsBaseのnquantileを使う。Indexがなくなるので適当に作ってつなげてやる。\n",
    "hcat(Array(0:4)./4, nquantile(df_receipt.amount, 4))"
   ]
  },
  {
   "cell_type": "markdown",
   "metadata": {},
   "source": [
    "### 033"
   ]
  },
  {
   "cell_type": "code",
   "execution_count": null,
   "metadata": {},
   "outputs": [],
   "source": [
    "# 27番をほぼそのまま流用するだけ\n",
    "@linq df_receipt |>\n",
    "    select(:store_cd, :amount) |>\n",
    "    groupby(:store_cd) |>\n",
    "    combine(:amount => mean) |>\n",
    "    sort(:amount_mean, rev=true) |>\n",
    "    where(:amount_mean .>= 330)"
   ]
  },
  {
   "cell_type": "markdown",
   "metadata": {},
   "source": [
    "### 034"
   ]
  },
  {
   "cell_type": "code",
   "execution_count": null,
   "metadata": {},
   "outputs": [],
   "source": [
    "# もし正規表現の中で否定するのは可読性の点で今一つなものの、whereの全体を否定する方法がないようなのでしかたなく\n",
    "@linq df_receipt |>\n",
    "    select(:customer_id, :amount) |>\n",
    "    where(occursin.(r\"^[^Z]\", :customer_id)) |>\n",
    "    groupby(:customer_id) |>\n",
    "    combine(:amount => sum) |>\n",
    "    combine(:amount_sum => mean)"
   ]
  },
  {
   "cell_type": "markdown",
   "metadata": {},
   "source": [
    "### 036"
   ]
  },
  {
   "cell_type": "code",
   "execution_count": null,
   "metadata": {},
   "outputs": [],
   "source": [
    "# あとから列を選ぶのは手間なのであらかじめdf_storeの列をしぼってからjoinする。\n",
    "# ソートは問題に指示されていないため行わない（Pythonの回答はソートされているが）\n",
    "first(innerjoin(df_receipt,\n",
    "                @select(df_store, :store_cd, :store_name),\n",
    "                on=:store_cd), 10)"
   ]
  },
  {
   "cell_type": "markdown",
   "metadata": {},
   "source": [
    "### 037"
   ]
  },
  {
   "cell_type": "code",
   "execution_count": null,
   "metadata": {},
   "outputs": [],
   "source": [
    "first(innerjoin(df_product,\n",
    "                df_category[:, [:category_small_cd, :category_small_name]],\n",
    "                on=:category_small_cd), 10)"
   ]
  },
  {
   "cell_type": "markdown",
   "metadata": {},
   "source": [
    "### 038"
   ]
  },
  {
   "cell_type": "code",
   "execution_count": null,
   "metadata": {},
   "outputs": [],
   "source": [
    "# gender_cdがmissingのものがあるので最初に始末。そのあとcoalesce.でmissingを0に置き換える。\n",
    "@linq outerjoin(df_customer[:, [:customer_id, :gender_cd]],\n",
    "                df_receipt[:, [:customer_id, :amount]],\n",
    "                on=:customer_id) |>\n",
    "    dropmissing(:gender_cd) |>\n",
    "    where(:gender_cd .== \"1\") |>\n",
    "    where(occursin.(r\"^[^Z]\", :customer_id)) |>\n",
    "    groupby(:customer_id) |>\n",
    "    combine(:amount => sum) |>\n",
    "    transform(amount_sum = coalesce.(:amount_sum, 0)) |>\n",
    "    first(10)"
   ]
  },
  {
   "cell_type": "markdown",
   "metadata": {},
   "source": [
    "### 039"
   ]
  },
  {
   "cell_type": "code",
   "execution_count": null,
   "metadata": {},
   "outputs": [],
   "source": [
    "df_sum = @linq df_receipt |>\n",
    "    select(:customer_id, :amount) |>\n",
    "    where(occursin.(r\"^[^Z]\", :customer_id)) |>\n",
    "    groupby(:customer_id) |>\n",
    "    combine(:amount => sum) |>\n",
    "    sort(:amount_sum, rev=true) |>\n",
    "    first(20)\n",
    "\n",
    "df_cnt = @linq df_receipt |>\n",
    "    select(:customer_id, :sales_ymd) |>\n",
    "    where(occursin.(r\"^[^Z]\", :customer_id)) |>\n",
    "    unique() |>  # すでに二つの列にしぼってあるので全体でuniqifyしてよい\n",
    "    groupby(:customer_id) |>\n",
    "    combine(:sales_ymd => length) |>\n",
    "    sort(:sales_ymd_length, rev=true) |>\n",
    "    first(20)\n",
    "\n",
    "outerjoin(df_sum, df_cnt, on=:customer_id)"
   ]
  },
  {
   "cell_type": "markdown",
   "metadata": {},
   "source": [
    "### 040"
   ]
  },
  {
   "cell_type": "code",
   "execution_count": null,
   "metadata": {},
   "outputs": [],
   "source": [
    "# Pythonでの回答はずいぶん手がこんでいるが、単純にこれでよい？\n",
    "nrow(df_product) * nrow(df_store)"
   ]
  },
  {
   "cell_type": "markdown",
   "metadata": {},
   "source": [
    "### 041"
   ]
  },
  {
   "cell_type": "code",
   "execution_count": null,
   "metadata": {},
   "outputs": [],
   "source": [
    "# Pythonでの回答もdiffを使ったほうが簡単だと思う。\n",
    "# diffだと一つ短い配列になるのでmissingをvcatして埋めてやる。\n",
    "@linq df_receipt |>\n",
    "    select(:sales_ymd, :amount) |>\n",
    "    groupby(:sales_ymd) |>\n",
    "    combine(:amount => sum) |>\n",
    "    orderby(:sales_ymd) |>\n",
    "    transform(amount_diff = vcat([missing], diff(:amount_sum))) |>\n",
    "    first(10)"
   ]
  },
  {
   "cell_type": "markdown",
   "metadata": {},
   "source": [
    "### 042"
   ]
  },
  {
   "cell_type": "code",
   "execution_count": null,
   "metadata": {},
   "outputs": [],
   "source": [
    "# シフトするための関数を定義。\n",
    "function shift(x::Array, delta::Int)\n",
    "    return vcat([missing for delta in 1:delta], x[begin:end-delta])\n",
    "end\n",
    "function shift(df::DataFrame, delta::Int; rename::Bool=true)\n",
    "    newdf = DataFrame(shift.(eachcol(df), delta))\n",
    "    if rename\n",
    "        newnames = [string(\"lag_\", name, \"_\", delta) for name in names(df)]\n",
    "    else\n",
    "        newnames = [string(\"lag_\", name) for name in names(df)]\n",
    "    end\n",
    "    rename!(newdf, newnames)\n",
    "    return newdf\n",
    "end"
   ]
  },
  {
   "cell_type": "code",
   "execution_count": null,
   "metadata": {},
   "outputs": [],
   "source": [
    "# 縦横共通の下準備\n",
    "df = @linq df_receipt |>\n",
    "    select(:sales_ymd, :amount) |>\n",
    "    groupby(:sales_ymd) |>\n",
    "    combine(:amount => sum) |>\n",
    "    orderby(:sales_ymd);"
   ]
  },
  {
   "cell_type": "code",
   "execution_count": null,
   "metadata": {},
   "outputs": [],
   "source": [
    "# 縦持ちケース\n",
    "dfs = [hcat(df, shift(df, i, rename=false)) for i in 1:3]\n",
    "first(dropmissing(vcat(dfs[1], dfs[2], dfs[3])), 10)"
   ]
  },
  {
   "cell_type": "code",
   "execution_count": null,
   "metadata": {},
   "outputs": [],
   "source": [
    "# 横持ちケース\n",
    "dropmissing(hcat(df, shift(df, 1), shift(df, 2), shift(df, 3)))"
   ]
  },
  {
   "cell_type": "markdown",
   "metadata": {},
   "source": [
    "### 043"
   ]
  },
  {
   "cell_type": "code",
   "execution_count": null,
   "metadata": {},
   "outputs": [],
   "source": [
    "# 一よりも上の位で切り捨てる関数を用意\n",
    "# ÷はPythonの//に相当する商を求める演算\n",
    "function digitfloor(x::Real, digit::Int64)\n",
    "    d = digit\n",
    "    return Int(floor(x÷10^d)*10^d)\n",
    "end"
   ]
  },
  {
   "cell_type": "code",
   "execution_count": null,
   "metadata": {},
   "outputs": [],
   "source": [
    "# あとは適当に処理してunstackするだけ\n",
    "@linq innerjoin(df_receipt, df_customer, on=:customer_id) |>\n",
    "    select(:gender_cd, :age, :amount) |>\n",
    "    transform(age_cd = digitfloor.(:age, 1)) |>\n",
    "    groupby([:gender_cd, :age_cd]) |>\n",
    "    combine(:amount => sum) |>\n",
    "    unstack(:age_cd, :gender_cd, :amount_sum) |>\n",
    "    rename([:age_cd, :male, :female, :unknown])"
   ]
  },
  {
   "cell_type": "markdown",
   "metadata": {},
   "source": [
    "### 044"
   ]
  },
  {
   "cell_type": "code",
   "execution_count": null,
   "metadata": {},
   "outputs": [],
   "source": [
    "# verboseだけど愚直に変換するための関数を用意\n",
    "function convert_cd(x)\n",
    "    if x == \"0\"\n",
    "        return \"00\"\n",
    "    elseif x == \"1\"\n",
    "        return \"01\"\n",
    "    else\n",
    "        return \"99\"\n",
    "    end\n",
    "end\n",
    "\n",
    "@linq innerjoin(df_receipt, df_customer, on=:customer_id) |>\n",
    "    select(:gender_cd, :age, :amount) |>\n",
    "    transform(age_cd = digitfloor.(:age, 1)) |>\n",
    "    groupby([:age_cd, :gender_cd]) |>\n",
    "    combine(:amount => sum) |>\n",
    "    transform(gender_cd = convert_cd.(:gender_cd)) |>\n",
    "    orderby(:age_cd, :gender_cd)"
   ]
  },
  {
   "cell_type": "markdown",
   "metadata": {},
   "source": [
    "### 045"
   ]
  },
  {
   "cell_type": "code",
   "execution_count": null,
   "metadata": {},
   "outputs": [],
   "source": [
    "# string., year., month., day.とすべてにドットをつける必要があることに注意\n",
    "@linq df_customer |>\n",
    "    transform(birth_day = string.(Dates.year.(:birth_day),\n",
    "                                  Dates.month.(:birth_day),\n",
    "                                  Dates.day.(:birth_day))) |>\n",
    "    select(:customer_id, :birth_day) |>\n",
    "    first(10)"
   ]
  },
  {
   "cell_type": "markdown",
   "metadata": {},
   "source": [
    "### 046"
   ]
  },
  {
   "cell_type": "code",
   "execution_count": null,
   "metadata": {},
   "outputs": [],
   "source": [
    "# パーサーにフォーマットを教えてやるだけでOK\n",
    "@linq df_customer |>\n",
    "    select(:customer_id, :application_date) |>\n",
    "    transform(application_date = Date.(:application_date, \"yyyymmdd\")) |>\n",
    "    first(10)"
   ]
  },
  {
   "cell_type": "markdown",
   "metadata": {},
   "source": [
    "### 047"
   ]
  },
  {
   "cell_type": "code",
   "execution_count": null,
   "metadata": {},
   "outputs": [],
   "source": [
    "# スマートではないがいったんstringに変換\n",
    "# 速度重視なら÷10000して年、÷100して月（年月）を取り出すとかがベター\n",
    "@linq df_receipt |>\n",
    "    select(:receipt_no, :receipt_sub_no, :sales_ymd) |>\n",
    "    transform(sales_ymd = Date.(string.(:sales_ymd), \"yyyymmdd\")) |>\n",
    "    first(10)"
   ]
  },
  {
   "cell_type": "markdown",
   "metadata": {},
   "source": [
    "### 048"
   ]
  },
  {
   "cell_type": "code",
   "execution_count": null,
   "metadata": {},
   "outputs": [],
   "source": [
    "# そのままの関数があるので使うだけだが、そうするとdatetimeになってしまうので別途dateに変換しておく。\n",
    "@linq df_receipt |>\n",
    "    select(:receipt_no, :receipt_sub_no, :sales_epoch) |>\n",
    "    transform(sales_epoch = Date.(unix2datetime.(:sales_epoch))) |>\n",
    "    first(10)"
   ]
  },
  {
   "cell_type": "markdown",
   "metadata": {},
   "source": [
    "### 049"
   ]
  },
  {
   "cell_type": "code",
   "execution_count": null,
   "metadata": {},
   "outputs": [],
   "source": [
    "# ほとんど前問と同じで対応できる\n",
    "@linq df_receipt |>\n",
    "    select(:receipt_no, :receipt_sub_no, :sales_epoch) |>\n",
    "    transform(sales_epoch = Dates.year.(unix2datetime.(:sales_epoch))) |>\n",
    "    first(10)"
   ]
  },
  {
   "cell_type": "markdown",
   "metadata": {},
   "source": [
    "### 050"
   ]
  },
  {
   "cell_type": "code",
   "execution_count": null,
   "metadata": {},
   "outputs": [],
   "source": [
    "# 0埋めするためにlpadを使う\n",
    "@linq df_receipt |>\n",
    "    select(:receipt_no, :receipt_sub_no, :sales_epoch) |>\n",
    "    transform(sales_epoch = lpad.(Dates.month.(unix2datetime.(:sales_epoch)), 2, \"0\")) |>\n",
    "    first(10)"
   ]
  }
 ],
 "metadata": {
  "kernelspec": {
   "display_name": "Julia 1.4.1",
   "language": "julia",
   "name": "julia-1.4"
  },
  "language_info": {
   "file_extension": ".jl",
   "mimetype": "application/julia",
   "name": "julia",
   "version": "1.4.1"
  }
 },
 "nbformat": 4,
 "nbformat_minor": 4
}
