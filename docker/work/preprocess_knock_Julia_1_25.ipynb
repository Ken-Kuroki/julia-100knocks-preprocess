{
 "cells": [
  {
   "cell_type": "markdown",
   "metadata": {},
   "source": [
    "# Juliaで100本ノック(1-25)"
   ]
  },
  {
   "cell_type": "markdown",
   "metadata": {},
   "source": [
    "## 準備"
   ]
  },
  {
   "cell_type": "code",
   "execution_count": null,
   "metadata": {},
   "outputs": [],
   "source": [
    "ENV[\"COLUMNS\"]=240  # 描画する表の列数を増やす\n",
    "ENV[\"LINES\"]=10  # 行の数は制限（問題の指示とは異なるので好みに合わせて修正）\n",
    "\n",
    "using Pkg\n",
    "\n",
    "Pkg.add(\"DataFrames\")\n",
    "Pkg.add(\"DataFramesMeta\")\n",
    "Pkg.add(\"LibPQ\")\n",
    "Pkg.add(\"StatsBase\")\n",
    "\n",
    "using DataFrames\n",
    "using DataFramesMeta\n",
    "using LibPQ\n",
    "using StatsBase\n",
    "using Statistics"
   ]
  },
  {
   "cell_type": "markdown",
   "metadata": {},
   "source": [
    "## SQLとの接続"
   ]
  },
  {
   "cell_type": "code",
   "execution_count": null,
   "metadata": {},
   "outputs": [],
   "source": [
    "host = \"db\"\n",
    "port = ENV[\"PG_PORT\"]\n",
    "database = ENV[\"PG_DATABASE\"]\n",
    "user = ENV[\"PG_USER\"]\n",
    "password = ENV[\"PG_PASSWORD\"]\n",
    "dsl = \"postgresql://$user:$password@$host:$port/$database\"\n",
    "conn = LibPQ.Connection(dsl)\n",
    "\n",
    "df_customer = DataFrame(execute(conn, \"select * from customer\"))\n",
    "df_category = DataFrame(execute(conn, \"select * from category\"))\n",
    "df_product = DataFrame(execute(conn, \"select * from product\"))\n",
    "df_receipt = DataFrame(execute(conn, \"select * from receipt\"))\n",
    "df_store = DataFrame(execute(conn, \"select * from store\"))\n",
    "df_geocode = DataFrame(execute(conn, \"select * from geocode\"));"
   ]
  },
  {
   "cell_type": "markdown",
   "metadata": {},
   "source": [
    "## 本編"
   ]
  },
  {
   "cell_type": "markdown",
   "metadata": {},
   "source": [
    "### 001"
   ]
  },
  {
   "cell_type": "code",
   "execution_count": null,
   "metadata": {},
   "outputs": [],
   "source": [
    "first(df_receipt, 10)"
   ]
  },
  {
   "cell_type": "markdown",
   "metadata": {},
   "source": [
    "### 002"
   ]
  },
  {
   "cell_type": "code",
   "execution_count": null,
   "metadata": {},
   "outputs": [],
   "source": [
    "# 列名はコロンをつけたSymbol型で表す\n",
    "first(df_receipt, 10)[:, [:sales_ymd, :customer_id, :product_cd, :amount]]"
   ]
  },
  {
   "cell_type": "markdown",
   "metadata": {},
   "source": [
    "### 003"
   ]
  },
  {
   "cell_type": "code",
   "execution_count": null,
   "metadata": {},
   "outputs": [],
   "source": [
    "# selectを使うが、デフォルトだとデータをコピーしてしまうのでcopycols=falseを渡す\n",
    "# （いちいち指定するのは面倒なのでこれより後の問題では気にしていない）\n",
    "select(first(df_receipt, 10), :sales_ymd => :sales_date, :customer_id, :product_cd, :amount, copycols=false)"
   ]
  },
  {
   "cell_type": "markdown",
   "metadata": {},
   "source": [
    "### 004"
   ]
  },
  {
   "cell_type": "code",
   "execution_count": null,
   "metadata": {},
   "outputs": [],
   "source": [
    "# クエリーしたいときは他のパッケージを使う。ここではDataFramesMetaを使う。比較演算子をelement-wiseに適用するため.==や.>などドットをつけることに注意\n",
    "@where(df_receipt[:, [:sales_ymd, :customer_id, :product_cd, :amount]],\n",
    "    :customer_id.==\"CS018205000001\")"
   ]
  },
  {
   "cell_type": "markdown",
   "metadata": {},
   "source": [
    "### 005"
   ]
  },
  {
   "cell_type": "code",
   "execution_count": null,
   "metadata": {},
   "outputs": [],
   "source": [
    "@where(df_receipt[:, [:sales_ymd, :customer_id, :product_cd, :amount]],\n",
    "    :customer_id.==\"CS018205000001\",\n",
    "    :amount.>=1000)"
   ]
  },
  {
   "cell_type": "markdown",
   "metadata": {},
   "source": [
    "### 006"
   ]
  },
  {
   "cell_type": "code",
   "execution_count": null,
   "metadata": {},
   "outputs": [],
   "source": [
    "# 複雑になってきたのでlinqで書く。orは.|で表す。\n",
    "@linq df_receipt |>\n",
    "    select(:sales_ymd, :customer_id, :product_cd, :quantity, :amount) |>\n",
    "    where(:customer_id.==\"CS018205000001\", (:amount .>= 1000) .| (:quantity .>= 5))"
   ]
  },
  {
   "cell_type": "markdown",
   "metadata": {},
   "source": [
    "### 007"
   ]
  },
  {
   "cell_type": "code",
   "execution_count": null,
   "metadata": {},
   "outputs": [],
   "source": [
    "# and条件はカンマで区切って並べるだけ。\n",
    "@linq df_receipt |>\n",
    "    select(:sales_ymd, :customer_id, :product_cd, :amount) |>\n",
    "    where(:customer_id.==\"CS018205000001\", :amount .>= 1000, :amount .<= 2000)"
   ]
  },
  {
   "cell_type": "markdown",
   "metadata": {},
   "source": [
    "### 008"
   ]
  },
  {
   "cell_type": "code",
   "execution_count": null,
   "metadata": {},
   "outputs": [],
   "source": [
    "@linq df_receipt |>\n",
    "    select(:sales_ymd, :customer_id, :product_cd, :amount) |>\n",
    "    where(:customer_id.==\"CS018205000001\", :product_cd .!= \"P071401019\")"
   ]
  },
  {
   "cell_type": "markdown",
   "metadata": {},
   "source": [
    "### 009"
   ]
  },
  {
   "cell_type": "code",
   "execution_count": null,
   "metadata": {},
   "outputs": [],
   "source": [
    "# 前提が成り立たないのでスキップ"
   ]
  },
  {
   "cell_type": "markdown",
   "metadata": {},
   "source": [
    "### 010"
   ]
  },
  {
   "cell_type": "code",
   "execution_count": null,
   "metadata": {},
   "outputs": [],
   "source": [
    "# occursinをelement-wiseに使う。列名を指定するとその中身が展開されるのはここまでと同じ。\n",
    "@linq df_store |>\n",
    "    where(occursin.(r\"^S14\", :store_cd)) |>\n",
    "    first(10)"
   ]
  },
  {
   "cell_type": "markdown",
   "metadata": {},
   "source": [
    "### 011"
   ]
  },
  {
   "cell_type": "code",
   "execution_count": null,
   "metadata": {},
   "outputs": [],
   "source": [
    "# firstなどdataframe本体の機能もlinqで使える。\n",
    "@linq df_customer |>\n",
    "    where(occursin.(r\"1$\", :customer_id)) |>\n",
    "    first(10)"
   ]
  },
  {
   "cell_type": "markdown",
   "metadata": {},
   "source": [
    "### 012"
   ]
  },
  {
   "cell_type": "code",
   "execution_count": null,
   "metadata": {},
   "outputs": [],
   "source": [
    "# 簡単なのでいったんlinqをやめてみる\n",
    "@where(df_store, occursin.(r\"横浜市\", :address))"
   ]
  },
  {
   "cell_type": "markdown",
   "metadata": {},
   "source": [
    "### 013"
   ]
  },
  {
   "cell_type": "code",
   "execution_count": null,
   "metadata": {},
   "outputs": [],
   "source": [
    "@linq df_customer |>\n",
    "    where(occursin.(r\"^[A-F]\", :status_cd)) |>\n",
    "    first(10)"
   ]
  },
  {
   "cell_type": "markdown",
   "metadata": {},
   "source": [
    "### 014"
   ]
  },
  {
   "cell_type": "code",
   "execution_count": null,
   "metadata": {},
   "outputs": [],
   "source": [
    "@linq df_customer |>\n",
    "    where(occursin.(r\"[1-9]$\", :status_cd)) |>\n",
    "    first(10)"
   ]
  },
  {
   "cell_type": "markdown",
   "metadata": {},
   "source": [
    "### 015"
   ]
  },
  {
   "cell_type": "code",
   "execution_count": null,
   "metadata": {},
   "outputs": [],
   "source": [
    "# ひとつのwhereの中で処理しないで複数重ねてもよい\n",
    "@linq df_customer |>\n",
    "    where(occursin.(r\"^[A-F]\", :status_cd)) |>    \n",
    "    where(occursin.(r\"[1-9]$\", :status_cd)) |>\n",
    "    first(10)"
   ]
  },
  {
   "cell_type": "markdown",
   "metadata": {},
   "source": [
    "### 016"
   ]
  },
  {
   "cell_type": "code",
   "execution_count": null,
   "metadata": {},
   "outputs": [],
   "source": [
    "@where(df_store, occursin.(r\"\\d{3}-\\d{3}-\\d{4}\", :tel_no))"
   ]
  },
  {
   "cell_type": "markdown",
   "metadata": {},
   "source": [
    "### 017"
   ]
  },
  {
   "cell_type": "code",
   "execution_count": null,
   "metadata": {},
   "outputs": [],
   "source": [
    "@linq df_customer |>\n",
    "    orderby(:birth_day) |>\n",
    "    first(10)"
   ]
  },
  {
   "cell_type": "markdown",
   "metadata": {},
   "source": [
    "### 018"
   ]
  },
  {
   "cell_type": "code",
   "execution_count": null,
   "metadata": {},
   "outputs": [],
   "source": [
    "# DataFrameMetaのorderbyでは降順ソートができないためDataFrameのsortを使う\n",
    "first(sort(df_customer, order(:birth_day, rev=true)), 10)"
   ]
  },
  {
   "cell_type": "markdown",
   "metadata": {},
   "source": [
    "### 019"
   ]
  },
  {
   "cell_type": "code",
   "execution_count": null,
   "metadata": {},
   "outputs": [],
   "source": [
    "# とはいえ、DataFrameのsortをlinqの中で使うこともできる。そしてStatsBase.competerankで同率ありの順位を出す。\n",
    "@linq df_receipt |>\n",
    "    sort(order(:amount, rev=true)) |>\n",
    "    transform(rank=competerank(:amount, rev=true)) |>\n",
    "    select(:customer_id, :amount, :rank) |>\n",
    "    first(10)"
   ]
  },
  {
   "cell_type": "markdown",
   "metadata": {},
   "source": [
    "### 020"
   ]
  },
  {
   "cell_type": "code",
   "execution_count": null,
   "metadata": {},
   "outputs": [],
   "source": [
    "# StatsBase.ordinalrankで同率なしの順位を出す。\n",
    "@linq df_receipt |>\n",
    "    sort(order(:amount, rev=true)) |>\n",
    "    transform(rank=ordinalrank(:amount, rev=true)) |>\n",
    "    select(:customer_id, :amount, :rank) |>\n",
    "    first(10)"
   ]
  },
  {
   "cell_type": "markdown",
   "metadata": {},
   "source": [
    "### 021"
   ]
  },
  {
   "cell_type": "code",
   "execution_count": null,
   "metadata": {},
   "outputs": [],
   "source": [
    "# length(df)はできないが、size(df)でもよい。あるいは特定の列に対してならlengthも使える。\n",
    "nrow(df_receipt)"
   ]
  },
  {
   "cell_type": "markdown",
   "metadata": {},
   "source": [
    "### 022"
   ]
  },
  {
   "cell_type": "code",
   "execution_count": null,
   "metadata": {},
   "outputs": [],
   "source": [
    "nrow(unique(df_receipt, :customer_id))"
   ]
  },
  {
   "cell_type": "markdown",
   "metadata": {},
   "source": [
    "### 023"
   ]
  },
  {
   "cell_type": "code",
   "execution_count": null,
   "metadata": {},
   "outputs": [],
   "source": [
    "# combineの使い方さえわかれば簡単\n",
    "@linq df_receipt |>\n",
    "    select(:store_cd, :amount, :quantity) |>\n",
    "    groupby(:store_cd) |>\n",
    "    combine(:amount => sum, :quantity => sum) |>\n",
    "    orderby(:store_cd)"
   ]
  },
  {
   "cell_type": "markdown",
   "metadata": {},
   "source": [
    "### 024"
   ]
  },
  {
   "cell_type": "code",
   "execution_count": null,
   "metadata": {},
   "outputs": [],
   "source": [
    "@linq df_receipt |>\n",
    "    select(:customer_id, :sales_ymd) |>\n",
    "    orderby(:customer_id, :sales_ymd) |>\n",
    "    groupby(:customer_id) |>\n",
    "    combine(:sales_ymd => last) |>\n",
    "    first(10)"
   ]
  },
  {
   "cell_type": "markdown",
   "metadata": {},
   "source": [
    "### 025"
   ]
  },
  {
   "cell_type": "code",
   "execution_count": null,
   "metadata": {},
   "outputs": [],
   "source": [
    "@linq df_receipt |>\n",
    "    select(:customer_id, :sales_ymd) |>\n",
    "    orderby(:customer_id, :sales_ymd) |>\n",
    "    groupby(:customer_id) |>\n",
    "    combine(:sales_ymd => first) |>\n",
    "    first(10)"
   ]
  }
 ],
 "metadata": {
  "kernelspec": {
   "display_name": "Julia 1.4.1",
   "language": "julia",
   "name": "julia-1.4"
  },
  "language_info": {
   "file_extension": ".jl",
   "mimetype": "application/julia",
   "name": "julia",
   "version": "1.4.1"
  }
 },
 "nbformat": 4,
 "nbformat_minor": 4
}
