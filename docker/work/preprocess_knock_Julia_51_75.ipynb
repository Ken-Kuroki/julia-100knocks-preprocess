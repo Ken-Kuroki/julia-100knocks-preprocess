{
 "cells": [
  {
   "cell_type": "markdown",
   "metadata": {},
   "source": [
    "# Juliaで100本ノック(51-76)"
   ]
  },
  {
   "cell_type": "markdown",
   "metadata": {},
   "source": [
    "## 準備"
   ]
  },
  {
   "cell_type": "code",
   "execution_count": null,
   "metadata": {},
   "outputs": [],
   "source": [
    "ENV[\"COLUMNS\"]=240  # 描画する表の列数を増やす\n",
    "ENV[\"LINES\"]=10  # 行の数は制限（問題の指示とは異なるので好みに合わせて修正）\n",
    "\n",
    "using Pkg\n",
    "\n",
    "Pkg.add(\"DataFrames\")\n",
    "Pkg.add(\"DataFramesMeta\")\n",
    "Pkg.add(\"LibPQ\")\n",
    "Pkg.add(\"StatsBase\")\n",
    "Pkg.add(\"ScikitLearn\")\n",
    "\n",
    "using DataFrames\n",
    "using DataFramesMeta\n",
    "using LibPQ\n",
    "using StatsBase\n",
    "using Statistics\n",
    "using Dates\n",
    "using Random\n",
    "using ScikitLearn"
   ]
  },
  {
   "cell_type": "code",
   "execution_count": null,
   "metadata": {},
   "outputs": [],
   "source": [
    "@sk_import preprocessing: (LabelBinarizer, StandardScaler, MinMaxScaler)"
   ]
  },
  {
   "cell_type": "markdown",
   "metadata": {},
   "source": [
    "## SQLとの接続"
   ]
  },
  {
   "cell_type": "code",
   "execution_count": null,
   "metadata": {},
   "outputs": [],
   "source": [
    "host = \"db\"\n",
    "port = ENV[\"PG_PORT\"]\n",
    "database = ENV[\"PG_DATABASE\"]\n",
    "user = ENV[\"PG_USER\"]\n",
    "password = ENV[\"PG_PASSWORD\"]\n",
    "dsl = \"postgresql://$user:$password@$host:$port/$database\"\n",
    "conn = LibPQ.Connection(dsl)\n",
    "\n",
    "df_customer = DataFrame(execute(conn, \"select * from customer\"))\n",
    "df_category = DataFrame(execute(conn, \"select * from category\"))\n",
    "df_product = DataFrame(execute(conn, \"select * from product\"))\n",
    "df_receipt = DataFrame(execute(conn, \"select * from receipt\"))\n",
    "df_store = DataFrame(execute(conn, \"select * from store\"))\n",
    "df_geocode = DataFrame(execute(conn, \"select * from geocode\"));"
   ]
  },
  {
   "cell_type": "markdown",
   "metadata": {},
   "source": [
    "## 本編"
   ]
  },
  {
   "cell_type": "markdown",
   "metadata": {},
   "source": [
    "### 051"
   ]
  },
  {
   "cell_type": "code",
   "execution_count": null,
   "metadata": {},
   "outputs": [],
   "source": [
    "# 前問と同じ\n",
    "@linq df_receipt |>\n",
    "    select(:receipt_no, :receipt_sub_no, :sales_epoch) |>\n",
    "    transform(sales_epoch = lpad.(Dates.day.(unix2datetime.(:sales_epoch)), 2, \"0\")) |>\n",
    "    first(10)"
   ]
  },
  {
   "cell_type": "markdown",
   "metadata": {},
   "source": [
    "### 052"
   ]
  },
  {
   "cell_type": "code",
   "execution_count": null,
   "metadata": {},
   "outputs": [],
   "source": [
    "# 匿名関数を作ってその場でelement-wiseに適用。他は既出の要素の組み合わせ。\n",
    "@linq df_receipt |>\n",
    "    select(:customer_id, :amount) |>\n",
    "    where(occursin.(r\"^[^Z]\", :customer_id)) |>\n",
    "    groupby(:customer_id) |>\n",
    "    combine(:amount => sum) |>\n",
    "    transform(sales_flg = (x -> x>2000 ? 1 : 0).(:amount_sum)) |>\n",
    "    orderby(:customer_id) |>\n",
    "    first(10)"
   ]
  },
  {
   "cell_type": "markdown",
   "metadata": {},
   "source": [
    "### 053"
   ]
  },
  {
   "cell_type": "code",
   "execution_count": null,
   "metadata": {},
   "outputs": [],
   "source": [
    "# 別関数で郵便番号の判定\n",
    "function iftokyo(x::String)\n",
    "    code = parse(Int, x[1:3])\n",
    "    if code >= 100 && code <= 209\n",
    "        return true\n",
    "    else\n",
    "        return false\n",
    "    end\n",
    "end"
   ]
  },
  {
   "cell_type": "code",
   "execution_count": null,
   "metadata": {},
   "outputs": [],
   "source": [
    "# joinする前にuniquifyして行数が増えないようにする。\n",
    "@linq df_customer |>\n",
    "    select(:customer_id, :postal_cd) |>\n",
    "    transform(postal_flg = iftokyo.(:postal_cd)) |>\n",
    "    innerjoin(unique(df_receipt, :customer_id), on=:customer_id) |>\n",
    "    groupby(:postal_flg) |>\n",
    "    combine(:customer_id => length) |>\n",
    "    orderby(:postal_flg)\n"
   ]
  },
  {
   "cell_type": "markdown",
   "metadata": {},
   "source": [
    "### 054"
   ]
  },
  {
   "cell_type": "code",
   "execution_count": null,
   "metadata": {},
   "outputs": [],
   "source": [
    "# Pythonと違ってdictをそのままmapに使えないし、それにいずれにせよ部分文字列にマッチさせる必要があるので関数に分ける。\n",
    "# 本当は正規表現使わずに先頭の数文字を比べるだけでよい。\n",
    "function get_pref(x::String)\n",
    "    if occursin(r\"^埼玉県\", x)\n",
    "        return 11\n",
    "    elseif occursin(r\"^千葉県\", x)\n",
    "        return 12\n",
    "    elseif occursin(r\"^東京都\", x)\n",
    "        return 13\n",
    "    elseif occursin(r\"^神奈川県\", x)\n",
    "        return 14\n",
    "    end\n",
    "end\n",
    "\n",
    "@linq df_customer |>\n",
    "    select(:customer_id, :address) |>\n",
    "    transform(address_cd = get_pref.(:address)) |>\n",
    "    first(10)"
   ]
  },
  {
   "cell_type": "markdown",
   "metadata": {},
   "source": [
    "### 055"
   ]
  },
  {
   "cell_type": "code",
   "execution_count": null,
   "metadata": {},
   "outputs": [],
   "source": [
    "df_sales_amount = @linq df_receipt |>\n",
    "    select(:customer_id, :amount) |>\n",
    "    groupby(:customer_id) |>\n",
    "    combine(:amount => sum) |>\n",
    "    orderby(:customer_id);"
   ]
  },
  {
   "cell_type": "code",
   "execution_count": null,
   "metadata": {},
   "outputs": [],
   "source": [
    "_, pct25, pct50, pct75 = nquantile(df_sales_amount.amount_sum, 4)\n",
    "\n",
    "function pct_group(x::Real)\n",
    "    if x < pct25\n",
    "        return 1\n",
    "    elseif x < pct50\n",
    "        return 2\n",
    "    elseif x < pct75\n",
    "        return 3\n",
    "    else\n",
    "        return 4\n",
    "    end\n",
    "end"
   ]
  },
  {
   "cell_type": "code",
   "execution_count": null,
   "metadata": {},
   "outputs": [],
   "source": [
    "@linq df_sales_amount |>\n",
    "    transform(pct_group = pct_group.(:amount_sum)) |>\n",
    "    first(10)"
   ]
  },
  {
   "cell_type": "markdown",
   "metadata": {},
   "source": [
    "### 056"
   ]
  },
  {
   "cell_type": "code",
   "execution_count": null,
   "metadata": {},
   "outputs": [],
   "source": [
    "# ややこしい処理ではないが分けたほうがわかりやすい\n",
    "function get_ageclass(x)\n",
    "    ageclass = Int(floor(x÷10)*10)\n",
    "    return min(ageclass, 60)\n",
    "end\n",
    "\n",
    "@linq df_customer |>\n",
    "    select(:customer_id, :birth_day, :age) |>\n",
    "    transform(age = get_ageclass.(:age)) |>\n",
    "    first(10)"
   ]
  },
  {
   "cell_type": "markdown",
   "metadata": {},
   "source": [
    "### 057"
   ]
  },
  {
   "cell_type": "code",
   "execution_count": null,
   "metadata": {},
   "outputs": [],
   "source": [
    "function get_agegender(gender_cd::String, age::Int64)\n",
    "    return string(gender_cd, age)\n",
    "end\n",
    "\n",
    "@linq df_customer |>\n",
    "    transform(age = get_ageclass.(:age)) |>\n",
    "    transform(age_gender = get_agegender.(:gender_cd, :age)) |>\n",
    "    select(:customer_id, :birth_day, :age, :age_gender) |>\n",
    "    first(10)"
   ]
  },
  {
   "cell_type": "markdown",
   "metadata": {},
   "source": [
    "### 058"
   ]
  },
  {
   "cell_type": "code",
   "execution_count": null,
   "metadata": {},
   "outputs": [],
   "source": [
    "# StatModels.jlを使う手もあるが、ここではScikitLearnを呼んでみることにする。どちらにしてもArrayになってしまうのでwrapperを用意。\n",
    "\n",
    "function get_onehot(df::DataFrame, col::Symbol)\n",
    "    binalizer = LabelBinarizer()\n",
    "    mapper = DataFrameMapper([(col, binalizer)])\n",
    "    onehotdf = DataFrame(Int.(fit_transform!(mapper, copy(df))))\n",
    "    rename!(onehotdf, [string(col, \"_\", each) for each in binalizer.classes_])\n",
    "    return onehotdf\n",
    "end\n",
    "\n",
    "@linq hcat(df_customer[:, :customer_id], get_onehot(df_customer, :gender_cd)) |>\n",
    "    first(10)"
   ]
  },
  {
   "cell_type": "markdown",
   "metadata": {},
   "source": [
    "### 059"
   ]
  },
  {
   "cell_type": "code",
   "execution_count": null,
   "metadata": {},
   "outputs": [],
   "source": [
    "# 標本標準偏差による標準化ならz-scoreを求めるのと同値\n",
    "@linq df_receipt |>\n",
    "    select(:customer_id, :amount) |>\n",
    "    where(occursin.(r\"^[^Z]\", :customer_id)) |>\n",
    "    groupby(:customer_id) |>\n",
    "    combine(:amount => sum) |>\n",
    "    transform(amount_ss = zscore(:amount_sum)) |>\n",
    "    orderby(:customer_id) |>\n",
    "    first(10)"
   ]
  },
  {
   "cell_type": "markdown",
   "metadata": {},
   "source": [
    "### 060"
   ]
  },
  {
   "cell_type": "code",
   "execution_count": null,
   "metadata": {},
   "outputs": [],
   "source": [
    "# 今度はStatsBaseを使って正規化。Intの入力を受け付けないためFloatに変換しておく。\n",
    "@linq df_receipt |>\n",
    "    select(:customer_id, :amount) |>\n",
    "    where(occursin.(r\"^[^Z]\", :customer_id)) |>\n",
    "    groupby(:customer_id) |>\n",
    "    combine(:amount => sum) |>\n",
    "    transform(amount_mm = (x -> standardize(UnitRangeTransform, Float64.(x), dims=1))(:amount_sum)) |>\n",
    "    orderby(:customer_id) |>\n",
    "    first(10)"
   ]
  },
  {
   "cell_type": "markdown",
   "metadata": {},
   "source": [
    "### 061"
   ]
  },
  {
   "cell_type": "code",
   "execution_count": null,
   "metadata": {},
   "outputs": [],
   "source": [
    "# Python版と微妙に数字が合わないのは計算や定数定義の桁数の問題か？\n",
    "@linq df_receipt |>\n",
    "    select(:customer_id, :amount) |>\n",
    "    where(occursin.(r\"^[^Z]\", :customer_id)) |>\n",
    "    groupby(:customer_id) |>\n",
    "    combine(:amount => sum) |>\n",
    "    transform(amount_log10 = log10.(:amount_sum)) |>\n",
    "    orderby(:customer_id) |>\n",
    "    first(10)"
   ]
  },
  {
   "cell_type": "markdown",
   "metadata": {},
   "source": [
    "### 062"
   ]
  },
  {
   "cell_type": "code",
   "execution_count": null,
   "metadata": {},
   "outputs": [],
   "source": [
    "# 同上\n",
    "@linq df_receipt |>\n",
    "    select(:customer_id, :amount) |>\n",
    "    where(occursin.(r\"^[^Z]\", :customer_id)) |>\n",
    "    groupby(:customer_id) |>\n",
    "    combine(:amount => sum) |>\n",
    "    transform(amount_loge = log.(:amount_sum)) |>\n",
    "    orderby(:customer_id) |>\n",
    "    first(10)"
   ]
  },
  {
   "cell_type": "markdown",
   "metadata": {},
   "source": [
    "### 063"
   ]
  },
  {
   "cell_type": "code",
   "execution_count": null,
   "metadata": {},
   "outputs": [],
   "source": [
    "@linq df_product |>\n",
    "    transform(unit_profit = :unit_price .- :unit_cost) |>\n",
    "    first(10)"
   ]
  },
  {
   "cell_type": "markdown",
   "metadata": {},
   "source": [
    "### 064"
   ]
  },
  {
   "cell_type": "code",
   "execution_count": null,
   "metadata": {},
   "outputs": [],
   "source": [
    "# いまいちスマートではないが妥協\n",
    "df_tmp = @linq df_product |>\n",
    "    transform(unit_profit_rate = (:unit_price .- :unit_cost)./:unit_price);\n",
    "mean(skipmissing(df_tmp[:, :unit_profit_rate]))"
   ]
  },
  {
   "cell_type": "markdown",
   "metadata": {},
   "source": [
    "### 065"
   ]
  },
  {
   "cell_type": "code",
   "execution_count": null,
   "metadata": {},
   "outputs": [],
   "source": [
    "@linq df_product |>\n",
    "    transform(new_price = floor.(:unit_cost ./ 0.7)) |>\n",
    "    transform(new_profit_rate = (:new_price .- :unit_cost) ./ :new_price) |>\n",
    "    first(10)"
   ]
  },
  {
   "cell_type": "markdown",
   "metadata": {},
   "source": [
    "### 066"
   ]
  },
  {
   "cell_type": "code",
   "execution_count": null,
   "metadata": {},
   "outputs": [],
   "source": [
    "# Juliaのroundも.5は偶数方向に丸められる\n",
    "@linq df_product |>\n",
    "    transform(new_price = round.(:unit_cost ./ 0.7)) |>\n",
    "    transform(new_profit_rate = (:new_price .- :unit_cost) ./ :new_price) |>\n",
    "    first(10)"
   ]
  },
  {
   "cell_type": "markdown",
   "metadata": {},
   "source": [
    "### 067"
   ]
  },
  {
   "cell_type": "code",
   "execution_count": null,
   "metadata": {},
   "outputs": [],
   "source": [
    "@linq df_product |>\n",
    "    transform(new_price = ceil.(:unit_cost ./ 0.7)) |>\n",
    "    transform(new_profit_rate = (:new_price .- :unit_cost) ./ :new_price) |>\n",
    "    first(10)"
   ]
  },
  {
   "cell_type": "markdown",
   "metadata": {},
   "source": [
    "### 068"
   ]
  },
  {
   "cell_type": "code",
   "execution_count": null,
   "metadata": {},
   "outputs": [],
   "source": [
    "@linq df_product |>\n",
    "    transform(price_tax = floor.(:unit_price .* 1.1)) |>\n",
    "    first(10)"
   ]
  },
  {
   "cell_type": "markdown",
   "metadata": {},
   "source": [
    "### 069"
   ]
  },
  {
   "cell_type": "code",
   "execution_count": null,
   "metadata": {},
   "outputs": [],
   "source": [
    "df_tmp1 = @linq df_receipt |>\n",
    "    select(:customer_id, :amount) |>\n",
    "    groupby(:customer_id) |>\n",
    "    combine(:amount => sum)\n",
    "rename!(df_tmp1, [\"customer_id\", \"amount_x\"]);"
   ]
  },
  {
   "cell_type": "code",
   "execution_count": null,
   "metadata": {},
   "outputs": [],
   "source": [
    "df_tmp2 = @linq innerjoin(df_receipt, df_product, on=:product_cd) |>\n",
    "    where(:category_major_cd .== \"07\") |>\n",
    "    select(:customer_id, :amount) |>\n",
    "    groupby(:customer_id) |>\n",
    "    combine(:amount => sum)\n",
    "rename!(df_tmp2, [\"customer_id\", \"amount_y\"]);"
   ]
  },
  {
   "cell_type": "code",
   "execution_count": null,
   "metadata": {},
   "outputs": [],
   "source": [
    "@linq innerjoin(df_tmp1, df_tmp2, on=:customer_id) |>\n",
    "    transform(rate_07 = :amount_y ./ :amount_x) |>\n",
    "    orderby(:customer_id) |>\n",
    "    first(10)"
   ]
  },
  {
   "cell_type": "markdown",
   "metadata": {},
   "source": [
    "### 070"
   ]
  },
  {
   "cell_type": "code",
   "execution_count": null,
   "metadata": {},
   "outputs": [],
   "source": [
    "# じつはselectの中でも加工できる\n",
    "@linq innerjoin(df_receipt, df_customer, on=:customer_id) |>\n",
    "    select(:customer_id,\n",
    "           sales_ymd = Date.(string.(:sales_ymd), \"yyyymmdd\"),\n",
    "           application_date = Date.(:application_date, \"yyyymmdd\")) |>\n",
    "    transform(elapsed_date = :sales_ymd .- :application_date) |>\n",
    "    orderby(:customer_id) |>\n",
    "    last(10)\n",
    "# ISSUE: Python版と結果が一致しない（ソートが異なる）"
   ]
  },
  {
   "cell_type": "markdown",
   "metadata": {},
   "source": [
    "### 071"
   ]
  },
  {
   "cell_type": "code",
   "execution_count": null,
   "metadata": {},
   "outputs": [],
   "source": [
    "# 月数の定義があいまいなためスキップ。経過日数÷30でいいなら上の回答ほぼそのまま。"
   ]
  },
  {
   "cell_type": "markdown",
   "metadata": {},
   "source": [
    "### 072"
   ]
  },
  {
   "cell_type": "code",
   "execution_count": null,
   "metadata": {},
   "outputs": [],
   "source": [
    "# 月数の定義があいまいなためスキップ。経過日数÷30でいいなら上の回答ほぼそのまま。"
   ]
  },
  {
   "cell_type": "markdown",
   "metadata": {},
   "source": [
    "### 073"
   ]
  },
  {
   "cell_type": "code",
   "execution_count": null,
   "metadata": {},
   "outputs": [],
   "source": [
    "@linq innerjoin(df_receipt, df_customer, on=:customer_id) |>\n",
    "    select(:customer_id,\n",
    "           sales_ymd = Date.(string.(:sales_ymd), \"yyyymmdd\"),\n",
    "           application_date = Date.(:application_date, \"yyyymmdd\")) |>\n",
    "    transform(elapsed_second = convert.(Dates.Second, :sales_ymd .- :application_date)) |>\n",
    "    orderby(:customer_id) |>\n",
    "    last(10)"
   ]
  },
  {
   "cell_type": "markdown",
   "metadata": {},
   "source": [
    "### 074"
   ]
  },
  {
   "cell_type": "code",
   "execution_count": null,
   "metadata": {},
   "outputs": [],
   "source": [
    "# Dates.dayofweekは月曜日が1なので差し引いてやる\n",
    "@linq df_receipt |>\n",
    "    select(:customer_id,\n",
    "           sales_ymd = Date.(string.(:sales_ymd), \"yyyymmdd\")) |>\n",
    "    transform(elapsed_weekday = Day.(Dates.dayofweek.(:sales_ymd) .-1)) |>\n",
    "    transform(monday = :sales_ymd .- :elapsed_weekday) |>\n",
    "    first(10)"
   ]
  },
  {
   "cell_type": "markdown",
   "metadata": {},
   "source": [
    "### 075"
   ]
  },
  {
   "cell_type": "code",
   "execution_count": null,
   "metadata": {},
   "outputs": [],
   "source": [
    "# pandasと違ってそのままサンプリングできないので取り出すインデックスの配列を経由する\n",
    "# ScikitLearnにもsample()があるのでモジュールを指定\n",
    "# MLDataPatternモジュールを使えば直接サンプリングできるが、ArrayとDataFrameの間の変換が必要でかえって煩雑\n",
    "n = nrow(df_receipt)\n",
    "index = StatsBase.sample(1:n, n÷100, replace=false)\n",
    "first(df_receipt[index, :], 10)"
   ]
  }
 ],
 "metadata": {
  "kernelspec": {
   "display_name": "Julia 1.4.1",
   "language": "julia",
   "name": "julia-1.4"
  },
  "language_info": {
   "file_extension": ".jl",
   "mimetype": "application/julia",
   "name": "julia",
   "version": "1.4.1"
  }
 },
 "nbformat": 4,
 "nbformat_minor": 4
}
