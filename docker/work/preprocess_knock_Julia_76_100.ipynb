{
 "cells": [
  {
   "cell_type": "markdown",
   "metadata": {},
   "source": [
    "# Juliaで100本ノック(76-100)"
   ]
  },
  {
   "cell_type": "markdown",
   "metadata": {},
   "source": [
    "## 準備"
   ]
  },
  {
   "cell_type": "code",
   "execution_count": null,
   "metadata": {},
   "outputs": [],
   "source": [
    "ENV[\"COLUMNS\"]=240  # 描画する表の列数を増やす\n",
    "ENV[\"LINES\"]=10  # 行の数は制限（問題の指示とは異なるので好みに合わせて修正）\n",
    "\n",
    "using Pkg\n",
    "\n",
    "Pkg.add(\"DataFrames\")\n",
    "Pkg.add(\"DataFramesMeta\")\n",
    "Pkg.add(\"LibPQ\")\n",
    "Pkg.add(\"StatsBase\")\n",
    "Pkg.add(\"ScikitLearn\")\n",
    "Pkg.add(\"MLDataPattern\")\n",
    "Pkg.add(\"CSV\")\n",
    "\n",
    "using DataFrames\n",
    "using DataFramesMeta\n",
    "using LibPQ\n",
    "using StatsBase\n",
    "using Statistics\n",
    "using Dates\n",
    "using Random\n",
    "using ScikitLearn\n",
    "using MLDataPattern\n",
    "using CSV"
   ]
  },
  {
   "cell_type": "code",
   "execution_count": null,
   "metadata": {},
   "outputs": [],
   "source": [
    "@sk_import preprocessing: (LabelBinarizer, StandardScaler, MinMaxScaler)"
   ]
  },
  {
   "cell_type": "markdown",
   "metadata": {},
   "source": [
    "## SQLとの接続"
   ]
  },
  {
   "cell_type": "code",
   "execution_count": null,
   "metadata": {},
   "outputs": [],
   "source": [
    "host = \"db\"\n",
    "port = ENV[\"PG_PORT\"]\n",
    "database = ENV[\"PG_DATABASE\"]\n",
    "user = ENV[\"PG_USER\"]\n",
    "password = ENV[\"PG_PASSWORD\"]\n",
    "dsl = \"postgresql://$user:$password@$host:$port/$database\"\n",
    "conn = LibPQ.Connection(dsl)\n",
    "\n",
    "df_customer = DataFrame(execute(conn, \"select * from customer\"))\n",
    "df_category = DataFrame(execute(conn, \"select * from category\"))\n",
    "df_product = DataFrame(execute(conn, \"select * from product\"))\n",
    "df_receipt = DataFrame(execute(conn, \"select * from receipt\"))\n",
    "df_store = DataFrame(execute(conn, \"select * from store\"))\n",
    "df_geocode = DataFrame(execute(conn, \"select * from geocode\"));"
   ]
  },
  {
   "cell_type": "markdown",
   "metadata": {},
   "source": [
    "# 本編"
   ]
  },
  {
   "cell_type": "markdown",
   "metadata": {},
   "source": [
    "### 076"
   ]
  },
  {
   "cell_type": "code",
   "execution_count": null,
   "metadata": {},
   "outputs": [],
   "source": [
    "# ScikitLearnに渡すためにいったんArrayに変換、そのあとまたDataFrameに戻す。\n",
    "_, arr_tmp = CrossValidation.train_test_split(Array(df_customer), test_size=0.1, stratify=df_customer.gender_cd)\n",
    "df_tmp = DataFrame(arr_tmp)\n",
    "rename!(df_tmp, names(df_customer));\n",
    "\n",
    "@linq df_tmp |>\n",
    "    select(:customer_id, :gender_cd) |>\n",
    "    groupby(:gender_cd) |>\n",
    "    combine(:customer_id => length) |>\n",
    "    orderby(:gender_cd)"
   ]
  },
  {
   "cell_type": "markdown",
   "metadata": {},
   "source": [
    "### 077"
   ]
  },
  {
   "cell_type": "code",
   "execution_count": null,
   "metadata": {},
   "outputs": [],
   "source": [
    "# これまでにやったものをつなぎ合わせるだけ\n",
    "@linq df_receipt |>\n",
    "    select(:customer_id, :amount) |>\n",
    "    where(occursin.(r\"^[^Z]\", :customer_id)) |>\n",
    "    groupby(:customer_id) |>\n",
    "    combine(:amount => sum) |>\n",
    "    transform(amount_ss = zscore(:amount_sum)) |>\n",
    "    where(abs.(:amount_ss) .>= 3) |>\n",
    "    orderby(:customer_id) |>\n",
    "    first(10)"
   ]
  },
  {
   "cell_type": "markdown",
   "metadata": {},
   "source": [
    "### 078"
   ]
  },
  {
   "cell_type": "code",
   "execution_count": null,
   "metadata": {},
   "outputs": [],
   "source": [
    "# 少し行数が多くなるが素直に計算する\n",
    "df_tmp = @linq df_receipt |>\n",
    "    select(:customer_id, :amount) |>\n",
    "    where(occursin.(r\"^[^Z]\", :customer_id)) |>\n",
    "    groupby(:customer_id) |>\n",
    "    combine(:amount => sum);\n",
    "\n",
    "fourquantile = nquantile(df_tmp.amount_sum, 4)\n",
    "delta = iqr(df_tmp.amount_sum)*1.5\n",
    "lowerbound = fourquantile[2] - delta\n",
    "upperbound = fourquantile[4] + delta\n",
    "\n",
    "@linq df_tmp |>\n",
    "    where((:amount_sum .< lowerbound) .| (:amount_sum .> upperbound)) |>\n",
    "    orderby(:customer_id) |>\n",
    "    first(10)"
   ]
  },
  {
   "cell_type": "markdown",
   "metadata": {},
   "source": [
    "### 079"
   ]
  },
  {
   "cell_type": "code",
   "execution_count": null,
   "metadata": {},
   "outputs": [],
   "source": [
    "Dict(zip(names(df_product), sum.(eachcol(ismissing.(df_product)))))"
   ]
  },
  {
   "cell_type": "markdown",
   "metadata": {},
   "source": [
    "### 080"
   ]
  },
  {
   "cell_type": "code",
   "execution_count": null,
   "metadata": {},
   "outputs": [],
   "source": [
    "df_product_1 = dropmissing(df_product);\n",
    "println(string(\"削除前: \", nrow(df_product)))\n",
    "println(string(\"削除後: \", nrow(df_product_1)))"
   ]
  },
  {
   "cell_type": "markdown",
   "metadata": {},
   "source": [
    "### 081"
   ]
  },
  {
   "cell_type": "code",
   "execution_count": null,
   "metadata": {},
   "outputs": [],
   "source": [
    "df_product_2 = copy(df_product)\n",
    "\n",
    "# あまり必要はないがちょっと凝ったことをしてみる。列の中身をin-placeに書き換えたいのでindexingに!を使ってコピーを回避する。\n",
    "# そのうえで、毎回df_product_2[!, colname]と書くのはまどろっこしいのでこれを指すポインタを定義。Ref(var)がC言語の&varに相当。\n",
    "# C言語で*pointer = ...とポインタの中身を操作するのはpointer[] = ...と書く。\n",
    "function p081!(df)\n",
    "    for colname in [:unit_price, :unit_cost]\n",
    "        p_col = Ref(df[!, colname])  # 参照を取る場合は!を使う\n",
    "        filling = round(mean(skipmissing(p_col[])))\n",
    "        p_col[] .= coalesce.(p_col[], filling)\n",
    "    end\n",
    "end\n",
    "\n",
    "@time p081!(df_product_2)\n",
    "Dict(zip(names(df_product), sum.(eachcol(ismissing.(df_product_2)))))"
   ]
  },
  {
   "cell_type": "markdown",
   "metadata": {},
   "source": [
    "### 082"
   ]
  },
  {
   "cell_type": "code",
   "execution_count": null,
   "metadata": {},
   "outputs": [],
   "source": [
    "# 本当は全ての処理をfunctionの中に書いたほうがパフォーマンスの点でベター。\n",
    "# ここではこの数問のみでしかやってないものの、まとまった量のデータを処理する場合は注意。\n",
    "df_product_3 = copy(df_product)\n",
    "\n",
    "function p082!(df)\n",
    "    for colname in [:unit_price, :unit_cost]\n",
    "        p_col = Ref(df[!, colname])\n",
    "        filling = round(median(skipmissing(p_col[])))\n",
    "        p_col[] .= coalesce.(p_col[], filling)\n",
    "    end\n",
    "end\n",
    "\n",
    "@time p082!(df_product_3)\n",
    "Dict(zip(names(df_product), sum.(eachcol(ismissing.(df_product_3)))))"
   ]
  },
  {
   "cell_type": "markdown",
   "metadata": {},
   "source": [
    "### 083"
   ]
  },
  {
   "cell_type": "code",
   "execution_count": null,
   "metadata": {},
   "outputs": [],
   "source": [
    "df_tmp1 = @linq df_product |>\n",
    "    select(:category_small_cd, :unit_price) |>\n",
    "    dropmissing() |>\n",
    "    groupby(:category_small_cd) |>\n",
    "    combine(:unit_price => median)\n",
    "cd_to_price = Dict([(each.category_small_cd, each.unit_price_median) for each in eachrow(df_tmp1)]);"
   ]
  },
  {
   "cell_type": "code",
   "execution_count": null,
   "metadata": {},
   "outputs": [],
   "source": [
    "# 上のpriceとまとめてdataframeにしてもいいところだが、もしmissingの入りかたが独立の場合は結果が正しくなくなってしまうので別々に処理\n",
    "df_tmp2 = @linq df_product |>\n",
    "    select(:category_small_cd, :unit_cost) |>\n",
    "    dropmissing() |>\n",
    "    groupby(:category_small_cd) |>\n",
    "    combine(:unit_cost => median)\n",
    "cd_to_cost = Dict([(each.category_small_cd, each.unit_cost_median) for each in eachrow(df_tmp2)]);"
   ]
  },
  {
   "cell_type": "code",
   "execution_count": null,
   "metadata": {},
   "outputs": [],
   "source": [
    "fill_price(cd, price) = ismissing(price) ? cd_to_price[cd] : price\n",
    "fill_cost(cd, cost) = ismissing(cost) ? cd_to_cost[cd] : cost"
   ]
  },
  {
   "cell_type": "code",
   "execution_count": null,
   "metadata": {},
   "outputs": [],
   "source": [
    "df_product_4 = @linq df_product |>\n",
    "    transform(unit_price = fill_price.(:category_small_cd, :unit_price)) |>\n",
    "    transform(unit_cost = fill_cost.(:category_small_cd, :unit_cost));\n",
    "Dict(zip(names(df_product), sum.(eachcol(ismissing.(df_product_4)))))"
   ]
  },
  {
   "cell_type": "markdown",
   "metadata": {},
   "source": [
    "### 084"
   ]
  },
  {
   "cell_type": "code",
   "execution_count": null,
   "metadata": {},
   "outputs": [],
   "source": [
    "# まずは年を取り出してunstack、さらにmissingを埋める\n",
    "df_tmp = @linq df_receipt |>\n",
    "    transform(year = :sales_ymd .÷ 10000) |>\n",
    "    transform(is2019 = :year .== 2019) |>\n",
    "    groupby([:customer_id, :is2019]) |>\n",
    "    combine(:amount => sum) |>\n",
    "    unstack(:customer_id, :is2019, :amount_sum)\n",
    "rename!(df_tmp, [:customer_id, :before2019, :in2019])\n",
    "df_tmp = coalesce.(df_tmp, 0)\n",
    "\n",
    "# 割合を計算してフィルタ\n",
    "df_tmp2 = @linq df_tmp |>\n",
    "    transform(total = :before2019 .+ :in2019) |>\n",
    "    transform(ratio = :in2019 ./ :total) |>\n",
    "    where(:ratio .> 0) |>\n",
    "    orderby(:customer_id)\n",
    "\n",
    "# 非顧客の行を消すためdf_customerをjoin\n",
    "@linq innerjoin(df_tmp2, @select(df_customer, :customer_id), on=:customer_id) |>\n",
    "    first(10)"
   ]
  },
  {
   "cell_type": "code",
   "execution_count": null,
   "metadata": {},
   "outputs": [],
   "source": [
    "Dict(zip(names(df_product), sum.(eachcol(ismissing.(df_tmp2)))))"
   ]
  },
  {
   "cell_type": "markdown",
   "metadata": {},
   "source": [
    "### 085"
   ]
  },
  {
   "cell_type": "code",
   "execution_count": null,
   "metadata": {},
   "outputs": [],
   "source": [
    "# いったん平均を取るために使う列だけで処理してから再度joinする\n",
    "df_tmp = @linq innerjoin(df_customer, @select(df_geocode, :postal_cd, :longitude, :latitude), on=:postal_cd) |>\n",
    "    select(:customer_id, :longitude, :latitude) |>\n",
    "    groupby(:customer_id) |>\n",
    "    combine(:longitude => mean, :latitude => mean);"
   ]
  },
  {
   "cell_type": "code",
   "execution_count": null,
   "metadata": {},
   "outputs": [],
   "source": [
    "df_customer_1 = innerjoin(df_customer, df_tmp, on=:customer_id);\n",
    "first(df_customer_1, 3)"
   ]
  },
  {
   "cell_type": "markdown",
   "metadata": {},
   "source": [
    "### 086"
   ]
  },
  {
   "cell_type": "code",
   "execution_count": null,
   "metadata": {},
   "outputs": [],
   "source": [
    "# 緯度経度がDecimal型のままではdeg2radに入らないのでFloatにキャスト。ほかはPython版の式を移植しただけ。\n",
    "function calc_distance(x1, y1, x2, y2)\n",
    "    x1, y1, x2, y2 = deg2rad(Float64(x1)), deg2rad(Float64(y1)), deg2rad(Float64(x2)), deg2rad(Float64(y2))  \n",
    "    L = 6371 * acos(sin(y1)*sin(y2)\n",
    "                    + cos(y1)*cos(y2)*cos(x1 - x2))\n",
    "    return L\n",
    "end"
   ]
  },
  {
   "cell_type": "code",
   "execution_count": null,
   "metadata": {},
   "outputs": [],
   "source": [
    "# 店舗の緯度経度を計算\n",
    "# joinの左右で列名が違う場合はこのようにon = :left => :rightとする\n",
    "df_tmp = @linq innerjoin(@select(df_customer_1, :customer_id, :application_store_cd), df_store, on=:application_store_cd=>:store_cd) |>\n",
    "    select(:customer_id,\n",
    "            store_lat = :latitude,\n",
    "            store_lon = :longitude);"
   ]
  },
  {
   "cell_type": "code",
   "execution_count": null,
   "metadata": {},
   "outputs": [],
   "source": [
    "# 顧客と店舗の緯度経度をjoin\n",
    "df_tmp2 = innerjoin(@select(df_customer_1, :customer_id, customer_lat = :latitude_mean, customer_lon = :longitude_mean),\n",
    "          df_tmp,\n",
    "          on=:customer_id);"
   ]
  },
  {
   "cell_type": "code",
   "execution_count": null,
   "metadata": {},
   "outputs": [],
   "source": [
    "# 距離を計算\n",
    "df_tmp3 = @byrow! df_tmp2 begin\n",
    "    @newcol distance::Array{Float64}\n",
    "    :distance = calc_distance(:customer_lat, :customer_lon, :store_lat, :store_lon)\n",
    "end;\n",
    "\n",
    "@linq df_tmp3 |>\n",
    "    orderby(:customer_id) |>\n",
    "    first(3)"
   ]
  },
  {
   "cell_type": "markdown",
   "metadata": {},
   "source": [
    "### 087"
   ]
  },
  {
   "cell_type": "code",
   "execution_count": null,
   "metadata": {},
   "outputs": [],
   "source": [
    "# 別テーブルから売り上げを集計\n",
    "df_amount_sum = @linq df_receipt |>\n",
    "    groupby(:customer_id) |>\n",
    "    combine(:amount => sum);"
   ]
  },
  {
   "cell_type": "code",
   "execution_count": null,
   "metadata": {},
   "outputs": [],
   "source": [
    "df_customer_u = @linq leftjoin(df_customer, df_amount_sum, on=:customer_id) |>\n",
    "    transform(amount_sum = coalesce.(:amount_sum, 0)) |>\n",
    "    sort([order(:amount_sum, rev=true), order(:customer_id)]) |>\n",
    "    groupby([:customer_name, :postal_cd]) |>\n",
    "    combine([(each => first) for each in names(df_customer)[begin:end]]) |>  # All => firstと書きたいができないのでそれぞれの列にタプルを作る\n",
    "    select(Not([\"customer_name\", \"postal_cd\"])) |>  # ここはSymbolではだめという……\n",
    "    orderby(:customer_id_first)\n",
    "rename!(df_customer_u, [each for each in names(df_customer)]);"
   ]
  },
  {
   "cell_type": "code",
   "execution_count": null,
   "metadata": {},
   "outputs": [],
   "source": [
    "println(nrow(df_customer))\n",
    "println(nrow(df_customer_u))"
   ]
  },
  {
   "cell_type": "markdown",
   "metadata": {},
   "source": [
    "### 088"
   ]
  },
  {
   "cell_type": "code",
   "execution_count": null,
   "metadata": {},
   "outputs": [],
   "source": [
    "# いったんmakeuniqueで列名を変更させてからリネーム。pandas同様にDictで特定の列だけリネームもできる。\n",
    "df_customer_n = innerjoin(df_customer, df_customer_u[:, [:customer_id, :customer_name, :postal_cd]], on=[:customer_name, :postal_cd], makeunique=true)\n",
    "rename!(df_customer_n, Dict([(:customer_id_1, :integration_id)]));"
   ]
  },
  {
   "cell_type": "code",
   "execution_count": null,
   "metadata": {},
   "outputs": [],
   "source": [
    "first(df_customer_n, 3)"
   ]
  },
  {
   "cell_type": "markdown",
   "metadata": {},
   "source": [
    "### 089"
   ]
  },
  {
   "cell_type": "code",
   "execution_count": null,
   "metadata": {},
   "outputs": [],
   "source": [
    "df_tmp = innerjoin(df_customer, df_receipt, on=:customer_id);"
   ]
  },
  {
   "cell_type": "code",
   "execution_count": null,
   "metadata": {},
   "outputs": [],
   "source": [
    "# ScikitLearnに渡すためにいったんArrayに変換、そのあとまたDataFrameに戻す。\n",
    "arr_train, arr_test = CrossValidation.train_test_split(Array(df_tmp), test_size=0.2, random_state=71);"
   ]
  },
  {
   "cell_type": "code",
   "execution_count": null,
   "metadata": {},
   "outputs": [],
   "source": [
    "df_train = DataFrame(arr_train)\n",
    "df_test = DataFrame(arr_test);"
   ]
  },
  {
   "cell_type": "code",
   "execution_count": null,
   "metadata": {},
   "outputs": [],
   "source": [
    "println(nrow(df_train) / nrow(df_tmp))\n",
    "println(nrow(df_test) / nrow(df_tmp))"
   ]
  },
  {
   "cell_type": "markdown",
   "metadata": {},
   "source": [
    "### 090"
   ]
  },
  {
   "cell_type": "code",
   "execution_count": null,
   "metadata": {},
   "outputs": [],
   "source": [
    "df_tmp = @linq df_receipt |>\n",
    "    transform(month = :sales_ymd .÷ 100) |>\n",
    "    groupby(:month) |>\n",
    "    combine(:amount => sum) |>\n",
    "    orderby(:month);"
   ]
  },
  {
   "cell_type": "code",
   "execution_count": null,
   "metadata": {},
   "outputs": [],
   "source": [
    "# スライスを指定するときに1-originでboth-sides inclusiveなことに注意する\n",
    "function split_data(df::DataFrame; start_offset::Int64, train_size=12, test_size=6, slide_window=6)\n",
    "    train_start = 1 + start_offset*6\n",
    "    train_end = train_start + train_size - 1\n",
    "    test_start = train_end + 1\n",
    "    test_end = test_start +test_size - 1\n",
    "    return df[train_start:train_end, :], df[test_start:test_end, :]\n",
    "end"
   ]
  },
  {
   "cell_type": "code",
   "execution_count": null,
   "metadata": {},
   "outputs": [],
   "source": [
    "df_train_1, df_test_1 = split_data(df_tmp, start_offset=0)\n",
    "df_train_2, df_test_2 = split_data(df_tmp, start_offset=1)\n",
    "df_train_3, df_test_3 = split_data(df_tmp, start_offset=2);"
   ]
  },
  {
   "cell_type": "markdown",
   "metadata": {},
   "source": [
    "### 091"
   ]
  },
  {
   "cell_type": "code",
   "execution_count": null,
   "metadata": {},
   "outputs": [],
   "source": [
    "# 常に1を返すlambda式で定数を割り当て（もっとスマートな方法ありそう）\n",
    "df_ifpurchased = @linq df_receipt |>\n",
    "    select(:customer_id) |>\n",
    "    unique() |>\n",
    "    transform(if_purchased = (x -> 1).(:customer_id));"
   ]
  },
  {
   "cell_type": "code",
   "execution_count": null,
   "metadata": {},
   "outputs": [],
   "source": [
    "# 購買履歴を結合してmissingを0埋めすることで売り上げがあるかないかのフラグにする\n",
    "df_tmp = @linq leftjoin(df_customer, df_ifpurchased, on=:customer_id) |>\n",
    "    transform(if_purchased = coalesce.(:if_purchased, 0));"
   ]
  },
  {
   "cell_type": "code",
   "execution_count": null,
   "metadata": {},
   "outputs": [],
   "source": [
    "# 区分ごとの件数を見る\n",
    "@linq df_tmp |>\n",
    "    groupby(:if_purchased) |>\n",
    "    combine(:customer_id => length)"
   ]
  },
  {
   "cell_type": "code",
   "execution_count": null,
   "metadata": {},
   "outputs": [],
   "source": [
    "# MLDataPatternモジュールにお任せでundersample。ただ、デフォルトではエントリが縦方向に入っている（ふつうと逆！）想定なので\n",
    "# obddim=1を指定して通常の縦長のテーブルであることを示す。\n",
    "arr_sampled, _ = undersample((Array(df_tmp), df_tmp.if_purchased), obsdim=1)\n",
    "df_sampled = DataFrame(arr_sampled)\n",
    "rename!(df_sampled, names(df_tmp));"
   ]
  },
  {
   "cell_type": "code",
   "execution_count": null,
   "metadata": {},
   "outputs": [],
   "source": [
    "# 件数が揃っていることを確認\n",
    "@linq df_sampled |>\n",
    "    groupby(:if_purchased) |>\n",
    "    combine(:customer_id => length)"
   ]
  },
  {
   "cell_type": "markdown",
   "metadata": {},
   "source": [
    "### 092"
   ]
  },
  {
   "cell_type": "code",
   "execution_count": null,
   "metadata": {},
   "outputs": [],
   "source": [
    "df_gender = @linq df_customer |>\n",
    "    select(:gender_cd, :gender) |>\n",
    "    unique()\n",
    "df_customer_s = @linq df_customer |>\n",
    "    select(Not(\"gender\"));"
   ]
  },
  {
   "cell_type": "markdown",
   "metadata": {},
   "source": [
    "### 093"
   ]
  },
  {
   "cell_type": "code",
   "execution_count": null,
   "metadata": {},
   "outputs": [],
   "source": [
    "# Notの引数ではSymbolが使えないので文字列で渡す\n",
    "df_product_full = innerjoin(df_product, @select(df_category, Not([\"category_major_cd\", \"category_medium_cd\"])), on=:category_small_cd);\n",
    "first(df_product_full, 3)"
   ]
  },
  {
   "cell_type": "markdown",
   "metadata": {},
   "source": [
    "### 094"
   ]
  },
  {
   "cell_type": "code",
   "execution_count": null,
   "metadata": {},
   "outputs": [],
   "source": [
    "# CSVモジュールにお任せ。デフォルトの設定でOK\n",
    "CSV.write(\"data/category_julia.csv\", df_product_full)"
   ]
  },
  {
   "cell_type": "markdown",
   "metadata": {},
   "source": [
    "### 095"
   ]
  },
  {
   "cell_type": "code",
   "execution_count": null,
   "metadata": {},
   "outputs": [],
   "source": [
    "# 簡単にはできなそうだし、現実的に使うとも思えないのでスキップ"
   ]
  },
  {
   "cell_type": "markdown",
   "metadata": {},
   "source": [
    "### 096"
   ]
  },
  {
   "cell_type": "code",
   "execution_count": null,
   "metadata": {},
   "outputs": [],
   "source": [
    "CSV.write(\"data/category_julia2.csv\", df_product_full, header=false)"
   ]
  },
  {
   "cell_type": "markdown",
   "metadata": {},
   "source": [
    "### 097"
   ]
  },
  {
   "cell_type": "code",
   "execution_count": null,
   "metadata": {},
   "outputs": [],
   "source": [
    "# 保存する時と書き方が対照的でないので戸惑うが、CSV.read()はdeprecatedなのでこちらで\n",
    "df_read = DataFrame!(CSV.File(\"data/category_julia.csv\"));\n",
    "first(df_read, 3)"
   ]
  },
  {
   "cell_type": "markdown",
   "metadata": {},
   "source": [
    "### 098"
   ]
  },
  {
   "cell_type": "code",
   "execution_count": null,
   "metadata": {},
   "outputs": [],
   "source": [
    "df_read2 = DataFrame!(CSV.File(\"data/category_julia2.csv\"));\n",
    "first(df_read2, 3)"
   ]
  },
  {
   "cell_type": "markdown",
   "metadata": {},
   "source": [
    "### 099"
   ]
  },
  {
   "cell_type": "code",
   "execution_count": null,
   "metadata": {},
   "outputs": [],
   "source": [
    "CSV.write(\"data/category_julia.tsv\", df_product_full, delim=\"\\t\")"
   ]
  },
  {
   "cell_type": "markdown",
   "metadata": {},
   "source": [
    "### 100"
   ]
  },
  {
   "cell_type": "code",
   "execution_count": null,
   "metadata": {},
   "outputs": [],
   "source": [
    "# delim=\"\\t\"を指定してもいいが、ここでは自動判定に任せる\n",
    "df_read3 = DataFrame!(CSV.File(\"data/category_julia.tsv\"));\n",
    "first(df_read3)"
   ]
  },
  {
   "cell_type": "markdown",
   "metadata": {},
   "source": [
    "# これで１００本終わりです。おつかれさまでした！"
   ]
  },
  {
   "cell_type": "code",
   "execution_count": null,
   "metadata": {},
   "outputs": [],
   "source": []
  }
 ],
 "metadata": {
  "kernelspec": {
   "display_name": "Julia 1.4.1",
   "language": "julia",
   "name": "julia-1.4"
  },
  "language_info": {
   "file_extension": ".jl",
   "mimetype": "application/julia",
   "name": "julia",
   "version": "1.4.1"
  }
 },
 "nbformat": 4,
 "nbformat_minor": 4
}
